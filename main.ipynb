#   Marketing Campaigns
## Import Libraries:
import pandas as pd
import numpy as np
import scipy.stats as sc
from scipy import stats
import seaborn as sns
from sklearn.preprocessing import OrdinalEncoder, OneHotEncoder
from sklearn.preprocessing import MinMaxScaler
import warnings
warnings.filterwarnings("ignore")
import matplotlib.pyplot as plt
## Import and read the file:
df = pd.read_csv('rolling_stones_spotify.csv')
df.head()
df.describe()
df.info()
df.shape
df.isnull().sum()
